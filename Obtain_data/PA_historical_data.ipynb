{
 "cells": [
  {
   "cell_type": "code",
   "execution_count": 1,
   "metadata": {},
   "outputs": [],
   "source": [
    "## This repo: https://github.com/ReagentX/purple_air_api/\n",
    "\n",
    "import pandas as pd\n",
    "import purpleair as pa\n",
    "import datetime as dt"
   ]
  },
  {
   "cell_type": "code",
   "execution_count": 2,
   "metadata": {},
   "outputs": [
    {
     "name": "stdout",
     "output_type": "stream",
     "text": [
      "Initialized 22,230 sensors!\n"
     ]
    }
   ],
   "source": [
    "from purpleair.network import SensorList\n",
    "p = SensorList()"
   ]
  },
  {
   "cell_type": "code",
   "execution_count": 3,
   "metadata": {},
   "outputs": [
    {
     "data": {
      "text/plain": [
       "(16360, 43)"
      ]
     },
     "execution_count": 3,
     "metadata": {},
     "output_type": "execute_result"
    }
   ],
   "source": [
    "df = p.to_dataframe(sensor_filter='outside', # or 'all'\n",
    "                    channel='parent')\n",
    "\n",
    "df.columns\n",
    "df.head()\n",
    "df.shape"
   ]
  },
  {
   "cell_type": "code",
   "execution_count": 4,
   "metadata": {},
   "outputs": [],
   "source": [
    "## Save IDs of PA sensors that are outdoors:\n",
    "df.to_csv(\"C:\\\\Users\\\\ellen\\\\OneDrive\\\\MyDocs\\\\Graduate Research\\\\Low-cost AQ sensor epi\\\\Getting data\\\\PA_outside.csv\")"
   ]
  },
  {
   "cell_type": "code",
   "execution_count": 3,
   "metadata": {},
   "outputs": [
    {
     "data": {
      "text/html": [
       "<div>\n",
       "<style scoped>\n",
       "    .dataframe tbody tr th:only-of-type {\n",
       "        vertical-align: middle;\n",
       "    }\n",
       "\n",
       "    .dataframe tbody tr th {\n",
       "        vertical-align: top;\n",
       "    }\n",
       "\n",
       "    .dataframe thead th {\n",
       "        text-align: right;\n",
       "    }\n",
       "</style>\n",
       "<table border=\"1\" class=\"dataframe\">\n",
       "  <thead>\n",
       "    <tr style=\"text-align: right;\">\n",
       "      <th></th>\n",
       "      <th>Lon</th>\n",
       "      <th>Lat</th>\n",
       "      <th>Site.ID</th>\n",
       "      <th>Parameter</th>\n",
       "      <th>PA.ID</th>\n",
       "      <th>Dist</th>\n",
       "    </tr>\n",
       "  </thead>\n",
       "  <tbody>\n",
       "    <tr>\n",
       "      <th>0</th>\n",
       "      <td>-119.773210</td>\n",
       "      <td>36.785380</td>\n",
       "      <td>11</td>\n",
       "      <td>88101</td>\n",
       "      <td>6568</td>\n",
       "      <td>0.021083</td>\n",
       "    </tr>\n",
       "    <tr>\n",
       "      <th>1</th>\n",
       "      <td>-115.539170</td>\n",
       "      <td>32.978330</td>\n",
       "      <td>7</td>\n",
       "      <td>88101</td>\n",
       "      <td>77269</td>\n",
       "      <td>0.016803</td>\n",
       "    </tr>\n",
       "    <tr>\n",
       "      <th>2</th>\n",
       "      <td>-118.330783</td>\n",
       "      <td>37.360684</td>\n",
       "      <td>2</td>\n",
       "      <td>88101</td>\n",
       "      <td>17107</td>\n",
       "      <td>0.007901</td>\n",
       "    </tr>\n",
       "    <tr>\n",
       "      <th>3</th>\n",
       "      <td>-117.871036</td>\n",
       "      <td>36.487823</td>\n",
       "      <td>1003</td>\n",
       "      <td>88101</td>\n",
       "      <td>13469</td>\n",
       "      <td>0.028659</td>\n",
       "    </tr>\n",
       "    <tr>\n",
       "      <th>4</th>\n",
       "      <td>-119.062613</td>\n",
       "      <td>35.356615</td>\n",
       "      <td>14</td>\n",
       "      <td>88101</td>\n",
       "      <td>2350</td>\n",
       "      <td>0.000620</td>\n",
       "    </tr>\n",
       "  </tbody>\n",
       "</table>\n",
       "</div>"
      ],
      "text/plain": [
       "          Lon        Lat  Site.ID  Parameter  PA.ID      Dist\n",
       "0 -119.773210  36.785380       11      88101   6568  0.021083\n",
       "1 -115.539170  32.978330        7      88101  77269  0.016803\n",
       "2 -118.330783  37.360684        2      88101  17107  0.007901\n",
       "3 -117.871036  36.487823     1003      88101  13469  0.028659\n",
       "4 -119.062613  35.356615       14      88101   2350  0.000620"
      ]
     },
     "execution_count": 3,
     "metadata": {},
     "output_type": "execute_result"
    }
   ],
   "source": [
    "## Getting sensors in CA that are collocated with (within 50 meters of) AQS monitors:\n",
    "CA_locs = pd.read_csv(\"C:\\\\Users\\\\ellen\\\\OneDrive\\\\MyDocs\\\\Graduate Research\\\\Low-cost AQ sensor epi\\\\Getting data\\\\NN_PA_AQS_50m-outdoor.csv\")\n",
    "CA_locs.head()"
   ]
  },
  {
   "cell_type": "code",
   "execution_count": 10,
   "metadata": {},
   "outputs": [
    {
     "data": {
      "text/plain": [
       "35"
      ]
     },
     "execution_count": 10,
     "metadata": {},
     "output_type": "execute_result"
    }
   ],
   "source": [
    "ids = list(set(CA_locs[\"PA.ID\"]))\n",
    "len(ids)"
   ]
  },
  {
   "cell_type": "code",
   "execution_count": 3,
   "metadata": {},
   "outputs": [
    {
     "name": "stdout",
     "output_type": "stream",
     "text": [
      "Child sensor requested, acquiring parent instead.\n"
     ]
    },
    {
     "data": {
      "text/plain": [
       "('self',\n",
       " 'weeks_to_get',\n",
       " 'thingspeak_field',\n",
       " 'start_date',\n",
       " 'channel',\n",
       " 'key',\n",
       " 'parent_cols',\n",
       " 'child_cols',\n",
       " 'columns',\n",
       " 'to_week',\n",
       " 'url',\n",
       " 'weekly_data',\n",
       " '_')"
      ]
     },
     "execution_count": 3,
     "metadata": {},
     "output_type": "execute_result"
    }
   ],
   "source": [
    "import inspect\n",
    "\n",
    "se = pa.sensor.Sensor(61200)\n",
    "\n",
    "se.parent.get_historical.__code__.co_varnames"
   ]
  },
  {
   "cell_type": "code",
   "execution_count": 22,
   "metadata": {},
   "outputs": [
    {
     "name": "stdout",
     "output_type": "stream",
     "text": [
      "Child sensor requested, acquiring parent instead.\n"
     ]
    },
    {
     "data": {
      "text/plain": [
       "Index(['created_at', 'PM1.0 (CF=1) ug/m3', 'PM2.5 (CF=1) ug/m3',\n",
       "       'PM10.0 (CF=1) ug/m3', 'UptimeMinutes', 'ADC', 'Temperature_F',\n",
       "       'Humidity_%', 'PM2.5 (CF=ATM) ug/m3'],\n",
       "      dtype='object')"
      ]
     },
     "execution_count": 22,
     "metadata": {},
     "output_type": "execute_result"
    }
   ],
   "source": [
    "## Testing for one sensor\n",
    "## Note: need to run this to get the column names for the full run\n",
    "\n",
    "start = dt.datetime.now()\n",
    "\n",
    "se = pa.sensor.Sensor(61200)\n",
    "\n",
    "# se.parent = channel A, se.child = channel B\n",
    "h = se.parent.get_historical(weeks_to_get=5,\n",
    "                            start_date = dt.datetime.strptime(\"2021-01-01\", \"%Y-%m-%d\"),\n",
    "                             thingspeak_field='primary')\n",
    "end = dt.datetime.now()\n",
    "\n",
    "dt.timedelta.total_seconds(end-start) # 1 week = 1.247s, 5 weeks = 7.540s\n",
    "\n",
    "h.columns\n"
   ]
  },
  {
   "cell_type": "code",
   "execution_count": 25,
   "metadata": {},
   "outputs": [
    {
     "name": "stdout",
     "output_type": "stream",
     "text": [
      "10\n",
      "11\n",
      "12\n",
      "13\n",
      "14\n",
      "15\n",
      "16\n",
      "17\n",
      "18\n",
      "19\n",
      "20\n",
      "21\n",
      "22\n",
      "23\n",
      "24\n",
      "25\n",
      "26\n",
      "27\n",
      "28\n",
      "29\n",
      "30\n",
      "31\n",
      "32\n",
      "33\n",
      "34\n"
     ]
    }
   ],
   "source": [
    "## Get all data from 2020, from the nearest neighbor LCS to the AQS (within 50m).\n",
    "data = pd.DataFrame(columns = h.columns)\n",
    "data[\"ID\"] = []\n",
    "\n",
    "for s in ids[10:35]: # sensor 9 didn't have data, so had to restart in the middle\n",
    "    se = pa.sensor.Sensor(s)\n",
    "    print(ids.index(s))\n",
    "    \n",
    "    # se.parent = channel A, se.child = channel B\n",
    "    h = se.child.get_historical(weeks_to_get=53,\n",
    "                                start_date = dt.datetime.strptime(\"2021-01-01\", \"%Y-%m-%d\"), \n",
    "                                 thingspeak_field='primary') \n",
    "    h[\"ID\"] = s\n",
    "    data = data.append(h)\n",
    "\n",
    "## Change name of output file for channels A and B:\n",
    "data.to_csv(\"C:\\\\Users\\\\ellen\\\\OneDrive\\\\MyDocs\\\\Graduate Research\\\\Low-cost AQ sensor epi\\\\Getting data\\\\PA_2020_NNs_channelB_2.csv\")"
   ]
  },
  {
   "cell_type": "code",
   "execution_count": 4,
   "metadata": {},
   "outputs": [
    {
     "data": {
      "text/html": [
       "<div>\n",
       "<style scoped>\n",
       "    .dataframe tbody tr th:only-of-type {\n",
       "        vertical-align: middle;\n",
       "    }\n",
       "\n",
       "    .dataframe tbody tr th {\n",
       "        vertical-align: top;\n",
       "    }\n",
       "\n",
       "    .dataframe thead th {\n",
       "        text-align: right;\n",
       "    }\n",
       "</style>\n",
       "<table border=\"1\" class=\"dataframe\">\n",
       "  <thead>\n",
       "    <tr style=\"text-align: right;\">\n",
       "      <th></th>\n",
       "      <th>Unnamed: 0</th>\n",
       "      <th>created_at</th>\n",
       "      <th>PM1.0 (CF=1) ug/m3</th>\n",
       "      <th>PM2.5 (CF=1) ug/m3</th>\n",
       "      <th>PM10.0 (CF=1) ug/m3</th>\n",
       "      <th>UptimeMinutes</th>\n",
       "      <th>RSSI_dbm</th>\n",
       "      <th>Atmospheric Pressure</th>\n",
       "      <th>gas_sensor</th>\n",
       "      <th>PM2.5 (CF=ATM) ug/m3</th>\n",
       "      <th>ID</th>\n",
       "    </tr>\n",
       "  </thead>\n",
       "  <tbody>\n",
       "    <tr>\n",
       "      <th>4827629</th>\n",
       "      <td>347843</td>\n",
       "      <td>2019-12-26 23:50:47</td>\n",
       "      <td>0.0</td>\n",
       "      <td>0.0</td>\n",
       "      <td>0.00</td>\n",
       "      <td>19048.0</td>\n",
       "      <td>0.0</td>\n",
       "      <td>1007.19</td>\n",
       "      <td>NaN</td>\n",
       "      <td>0.0</td>\n",
       "      <td>9594.0</td>\n",
       "    </tr>\n",
       "    <tr>\n",
       "      <th>4827630</th>\n",
       "      <td>347844</td>\n",
       "      <td>2019-12-26 23:52:47</td>\n",
       "      <td>0.0</td>\n",
       "      <td>0.0</td>\n",
       "      <td>0.00</td>\n",
       "      <td>19048.0</td>\n",
       "      <td>0.0</td>\n",
       "      <td>1007.25</td>\n",
       "      <td>NaN</td>\n",
       "      <td>0.0</td>\n",
       "      <td>9594.0</td>\n",
       "    </tr>\n",
       "    <tr>\n",
       "      <th>4827631</th>\n",
       "      <td>347845</td>\n",
       "      <td>2019-12-26 23:54:47</td>\n",
       "      <td>0.0</td>\n",
       "      <td>0.0</td>\n",
       "      <td>0.04</td>\n",
       "      <td>19560.0</td>\n",
       "      <td>0.0</td>\n",
       "      <td>1007.27</td>\n",
       "      <td>NaN</td>\n",
       "      <td>0.0</td>\n",
       "      <td>9594.0</td>\n",
       "    </tr>\n",
       "    <tr>\n",
       "      <th>4827632</th>\n",
       "      <td>347846</td>\n",
       "      <td>2019-12-26 23:56:47</td>\n",
       "      <td>0.0</td>\n",
       "      <td>0.0</td>\n",
       "      <td>0.17</td>\n",
       "      <td>19560.0</td>\n",
       "      <td>0.0</td>\n",
       "      <td>1007.26</td>\n",
       "      <td>NaN</td>\n",
       "      <td>0.0</td>\n",
       "      <td>9594.0</td>\n",
       "    </tr>\n",
       "    <tr>\n",
       "      <th>4827633</th>\n",
       "      <td>347847</td>\n",
       "      <td>2019-12-26 23:58:47</td>\n",
       "      <td>0.0</td>\n",
       "      <td>0.0</td>\n",
       "      <td>0.09</td>\n",
       "      <td>19560.0</td>\n",
       "      <td>0.0</td>\n",
       "      <td>1007.26</td>\n",
       "      <td>NaN</td>\n",
       "      <td>0.0</td>\n",
       "      <td>9594.0</td>\n",
       "    </tr>\n",
       "  </tbody>\n",
       "</table>\n",
       "</div>"
      ],
      "text/plain": [
       "         Unnamed: 0           created_at  PM1.0 (CF=1) ug/m3  \\\n",
       "4827629      347843  2019-12-26 23:50:47                 0.0   \n",
       "4827630      347844  2019-12-26 23:52:47                 0.0   \n",
       "4827631      347845  2019-12-26 23:54:47                 0.0   \n",
       "4827632      347846  2019-12-26 23:56:47                 0.0   \n",
       "4827633      347847  2019-12-26 23:58:47                 0.0   \n",
       "\n",
       "         PM2.5 (CF=1) ug/m3  PM10.0 (CF=1) ug/m3  UptimeMinutes  RSSI_dbm  \\\n",
       "4827629                 0.0                 0.00        19048.0       0.0   \n",
       "4827630                 0.0                 0.00        19048.0       0.0   \n",
       "4827631                 0.0                 0.04        19560.0       0.0   \n",
       "4827632                 0.0                 0.17        19560.0       0.0   \n",
       "4827633                 0.0                 0.09        19560.0       0.0   \n",
       "\n",
       "         Atmospheric Pressure  gas_sensor  PM2.5 (CF=ATM) ug/m3      ID  \n",
       "4827629               1007.19         NaN                   0.0  9594.0  \n",
       "4827630               1007.25         NaN                   0.0  9594.0  \n",
       "4827631               1007.27         NaN                   0.0  9594.0  \n",
       "4827632               1007.26         NaN                   0.0  9594.0  \n",
       "4827633               1007.26         NaN                   0.0  9594.0  "
      ]
     },
     "execution_count": 4,
     "metadata": {},
     "output_type": "execute_result"
    }
   ],
   "source": [
    "data = pd.read_csv(\"C:\\\\Users\\\\ellen\\\\OneDrive\\\\MyDocs\\\\Graduate Research\\\\Low-cost AQ sensor epi\\\\Getting data\\\\PA_2020_NNs_channelB_2.csv\")\n",
    "data.head()\n",
    "data.tail()"
   ]
  }
 ],
 "metadata": {
  "kernelspec": {
   "display_name": "Python 3",
   "language": "python",
   "name": "python3"
  },
  "language_info": {
   "codemirror_mode": {
    "name": "ipython",
    "version": 3
   },
   "file_extension": ".py",
   "mimetype": "text/x-python",
   "name": "python",
   "nbconvert_exporter": "python",
   "pygments_lexer": "ipython3",
   "version": "3.6.5"
  }
 },
 "nbformat": 4,
 "nbformat_minor": 2
}
