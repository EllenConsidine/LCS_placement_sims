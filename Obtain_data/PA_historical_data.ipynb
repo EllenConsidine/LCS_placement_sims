{
 "cells": [
  {
   "cell_type": "code",
   "execution_count": 1,
   "metadata": {},
   "outputs": [],
   "source": [
    "## This repo: https://github.com/ReagentX/purple_air_api/\n",
    "\n",
    "import pandas as pd\n",
    "import purpleair as pa\n",
    "import datetime as dt"
   ]
  },
  {
   "cell_type": "code",
   "execution_count": 2,
   "metadata": {},
   "outputs": [
    {
     "name": "stdout",
     "output_type": "stream",
     "text": [
      "Initialized 22,203 sensors!\n"
     ]
    }
   ],
   "source": [
    "from purpleair.network import SensorList\n",
    "p = SensorList()"
   ]
  },
  {
   "cell_type": "code",
   "execution_count": 3,
   "metadata": {},
   "outputs": [
    {
     "data": {
      "text/plain": [
       "(16360, 43)"
      ]
     },
     "execution_count": 3,
     "metadata": {},
     "output_type": "execute_result"
    }
   ],
   "source": [
    "df = p.to_dataframe(sensor_filter='outside', # or 'all'\n",
    "                    channel='parent')\n",
    "\n",
    "df.columns\n",
    "df.head()\n",
    "df.shape"
   ]
  },
  {
   "cell_type": "code",
   "execution_count": 4,
   "metadata": {},
   "outputs": [],
   "source": [
    "## Save IDs of PA sensors that are outdoors:\n",
    "df.to_csv(\"C:\\\\Users\\\\ellen\\\\OneDrive\\\\MyDocs\\\\Graduate Research\\\\Low-cost AQ sensor epi\\\\Getting data\\\\PA_outside.csv\")"
   ]
  },
  {
   "cell_type": "code",
   "execution_count": 6,
   "metadata": {},
   "outputs": [
    {
     "data": {
      "text/html": [
       "<div>\n",
       "<style scoped>\n",
       "    .dataframe tbody tr th:only-of-type {\n",
       "        vertical-align: middle;\n",
       "    }\n",
       "\n",
       "    .dataframe tbody tr th {\n",
       "        vertical-align: top;\n",
       "    }\n",
       "\n",
       "    .dataframe thead th {\n",
       "        text-align: right;\n",
       "    }\n",
       "</style>\n",
       "<table border=\"1\" class=\"dataframe\">\n",
       "  <thead>\n",
       "    <tr style=\"text-align: right;\">\n",
       "      <th></th>\n",
       "      <th>Lon</th>\n",
       "      <th>Lat</th>\n",
       "      <th>Site.ID</th>\n",
       "      <th>Parameter</th>\n",
       "      <th>PA.ID</th>\n",
       "      <th>Dist</th>\n",
       "    </tr>\n",
       "  </thead>\n",
       "  <tbody>\n",
       "    <tr>\n",
       "      <th>0</th>\n",
       "      <td>-119.773210</td>\n",
       "      <td>36.785380</td>\n",
       "      <td>11</td>\n",
       "      <td>88101</td>\n",
       "      <td>6568</td>\n",
       "      <td>0.021083</td>\n",
       "    </tr>\n",
       "    <tr>\n",
       "      <th>1</th>\n",
       "      <td>-115.539170</td>\n",
       "      <td>32.978330</td>\n",
       "      <td>7</td>\n",
       "      <td>88101</td>\n",
       "      <td>77269</td>\n",
       "      <td>0.016803</td>\n",
       "    </tr>\n",
       "    <tr>\n",
       "      <th>2</th>\n",
       "      <td>-118.330783</td>\n",
       "      <td>37.360684</td>\n",
       "      <td>2</td>\n",
       "      <td>88101</td>\n",
       "      <td>17107</td>\n",
       "      <td>0.007901</td>\n",
       "    </tr>\n",
       "    <tr>\n",
       "      <th>3</th>\n",
       "      <td>-117.871036</td>\n",
       "      <td>36.487823</td>\n",
       "      <td>1003</td>\n",
       "      <td>88101</td>\n",
       "      <td>13469</td>\n",
       "      <td>0.028659</td>\n",
       "    </tr>\n",
       "    <tr>\n",
       "      <th>4</th>\n",
       "      <td>-119.062613</td>\n",
       "      <td>35.356615</td>\n",
       "      <td>14</td>\n",
       "      <td>88101</td>\n",
       "      <td>2350</td>\n",
       "      <td>0.000620</td>\n",
       "    </tr>\n",
       "  </tbody>\n",
       "</table>\n",
       "</div>"
      ],
      "text/plain": [
       "          Lon        Lat  Site.ID  Parameter  PA.ID      Dist\n",
       "0 -119.773210  36.785380       11      88101   6568  0.021083\n",
       "1 -115.539170  32.978330        7      88101  77269  0.016803\n",
       "2 -118.330783  37.360684        2      88101  17107  0.007901\n",
       "3 -117.871036  36.487823     1003      88101  13469  0.028659\n",
       "4 -119.062613  35.356615       14      88101   2350  0.000620"
      ]
     },
     "execution_count": 6,
     "metadata": {},
     "output_type": "execute_result"
    }
   ],
   "source": [
    "## Getting sensors in CA that are collocated with AQS monitors:\n",
    "CA_locs = pd.read_csv(\"C:\\\\Users\\\\ellen\\\\OneDrive\\\\MyDocs\\\\Graduate Research\\\\Low-cost AQ sensor epi\\\\Getting data\\\\NN_PA_AQS_50m-outdoor.csv\")\n",
    "CA_locs.head()"
   ]
  },
  {
   "cell_type": "code",
   "execution_count": 7,
   "metadata": {},
   "outputs": [
    {
     "data": {
      "text/plain": [
       "35"
      ]
     },
     "execution_count": 7,
     "metadata": {},
     "output_type": "execute_result"
    }
   ],
   "source": [
    "ids = list(set(CA_locs[\"PA.ID\"]))\n",
    "len(ids)"
   ]
  },
  {
   "cell_type": "code",
   "execution_count": 8,
   "metadata": {},
   "outputs": [
    {
     "data": {
      "text/plain": [
       "34"
      ]
     },
     "execution_count": 8,
     "metadata": {},
     "output_type": "execute_result"
    }
   ],
   "source": [
    "ids.index(9594)"
   ]
  },
  {
   "cell_type": "code",
   "execution_count": 22,
   "metadata": {},
   "outputs": [
    {
     "name": "stdout",
     "output_type": "stream",
     "text": [
      "Child sensor requested, acquiring parent instead.\n"
     ]
    },
    {
     "data": {
      "text/plain": [
       "FullArgSpec(args=['self', 'weeks_to_get', 'thingspeak_field', 'start_date'], varargs=None, varkw=None, defaults=(datetime.datetime(2022, 1, 11, 15, 33, 35, 635294),), kwonlyargs=[], kwonlydefaults=None, annotations={'return': <class 'pandas.core.frame.DataFrame'>, 'weeks_to_get': <class 'int'>, 'thingspeak_field': <class 'str'>, 'start_date': <class 'datetime.datetime'>})"
      ]
     },
     "execution_count": 22,
     "metadata": {},
     "output_type": "execute_result"
    }
   ],
   "source": [
    "import inspect\n",
    "\n",
    "se = pa.sensor.Sensor(61200)\n",
    "\n",
    "# se.parent.get_historical.__code__.co_varnames\n",
    "inspect.getfullargspec(se.parent.get_historical)"
   ]
  },
  {
   "cell_type": "code",
   "execution_count": 25,
   "metadata": {},
   "outputs": [
    {
     "name": "stdout",
     "output_type": "stream",
     "text": [
      "Child sensor requested, acquiring parent instead.\n"
     ]
    },
    {
     "data": {
      "text/plain": [
       "7.540086"
      ]
     },
     "execution_count": 25,
     "metadata": {},
     "output_type": "execute_result"
    }
   ],
   "source": [
    "# ## Testing for one sensor:\n",
    "\n",
    "# start = dt.datetime.now()\n",
    "\n",
    "# se = pa.sensor.Sensor(61200)\n",
    "\n",
    "# h = se.parent.get_historical(weeks_to_get=5,\n",
    "#                             start_date = dt.datetime.strptime(\"2021-01-01\", \"%Y-%m-%d\"),\n",
    "#                              thingspeak_field='primary')\n",
    "# end = dt.datetime.now()\n",
    "\n",
    "# dt.timedelta.total_seconds(end-start) # 1 week = 1.247s, 5 weeks = 7.540s\n"
   ]
  },
  {
   "cell_type": "code",
   "execution_count": 26,
   "metadata": {},
   "outputs": [
    {
     "name": "stdout",
     "output_type": "stream",
     "text": [
      "\n"
     ]
    }
   ],
   "source": [
    "# ## Get middle of each month from 2020: \n",
    "# data = pd.DataFrame(columns = h.columns)\n",
    "# data[\"ID\"] = []\n",
    "\n",
    "# for s in ids:\n",
    "#     se = pa.sensor.Sensor(s)\n",
    "#     print(ids.index(s))\n",
    "#     for i in range(1,13):\n",
    "#         h = se.parent.get_historical(weeks_to_get=1,\n",
    "#                                 start_date = dt.datetime.strptime(\"2020-\" + str(i) + \"-19\", \"%Y-%m-%d\"), #straddles 15th of each month\n",
    "#                                  thingspeak_field='primary')\n",
    "#         h[\"ID\"] = s\n",
    "#         data = data.append(h)\n",
    "\n",
    "# data.to_csv(\"C:\\\\Users\\\\ellen\\\\OneDrive\\\\MyDocs\\\\Graduate Research\\\\Low-cost AQ sensor epi\\\\Getting data\\\\PA_2020_NNs.csv\")"
   ]
  },
  {
   "cell_type": "code",
   "execution_count": 38,
   "metadata": {},
   "outputs": [
    {
     "data": {
      "text/plain": [
       "[9594]"
      ]
     },
     "execution_count": 38,
     "metadata": {},
     "output_type": "execute_result"
    }
   ],
   "source": [
    "ids[34:35]"
   ]
  },
  {
   "cell_type": "code",
   "execution_count": 40,
   "metadata": {},
   "outputs": [
    {
     "name": "stdout",
     "output_type": "stream",
     "text": [
      "10\n",
      "11\n",
      "12\n",
      "13\n",
      "14\n",
      "15\n",
      "16\n",
      "17\n",
      "18\n",
      "19\n",
      "20\n",
      "21\n",
      "22\n",
      "23\n",
      "24\n",
      "25\n",
      "26\n",
      "27\n",
      "28\n",
      "29\n",
      "30\n",
      "31\n",
      "32\n",
      "33\n",
      "34\n"
     ]
    }
   ],
   "source": [
    "# ## Get all data from 2020, from the nearest neighbor LCS to the AQS (within 50m).\n",
    "# data = pd.DataFrame(columns = h.columns)\n",
    "# data[\"ID\"] = []\n",
    "\n",
    "# for s in ids[10:35]: # sensor 9 didn't have data, so had to restart in the middle\n",
    "#     se = pa.sensor.Sensor(s)\n",
    "#     print(ids.index(s))\n",
    "    \n",
    "#     h = se.parent.get_historical(weeks_to_get=53,\n",
    "#                                 start_date = dt.datetime.strptime(\"2021-01-01\", \"%Y-%m-%d\"), \n",
    "#                                  thingspeak_field='primary')\n",
    "#     h[\"ID\"] = s\n",
    "#     data = data.append(h)\n",
    "\n",
    "# # data.to_csv(\"C:\\\\Users\\\\ellen\\\\OneDrive\\\\MyDocs\\\\Graduate Research\\\\Low-cost AQ sensor epi\\\\Getting data\\\\PA_2020_NNs.csv\")\n",
    "print(\"\")"
   ]
  },
  {
   "cell_type": "code",
   "execution_count": 41,
   "metadata": {},
   "outputs": [],
   "source": [
    "# data.head()\n",
    "data.to_csv(\"C:\\\\Users\\\\ellen\\\\OneDrive\\\\MyDocs\\\\Graduate Research\\\\Low-cost AQ sensor epi\\\\Getting data\\\\PA_2020_NNs_new2.csv\")"
   ]
  },
  {
   "cell_type": "code",
   "execution_count": 42,
   "metadata": {},
   "outputs": [
    {
     "data": {
      "text/html": [
       "<div>\n",
       "<style scoped>\n",
       "    .dataframe tbody tr th:only-of-type {\n",
       "        vertical-align: middle;\n",
       "    }\n",
       "\n",
       "    .dataframe tbody tr th {\n",
       "        vertical-align: top;\n",
       "    }\n",
       "\n",
       "    .dataframe thead th {\n",
       "        text-align: right;\n",
       "    }\n",
       "</style>\n",
       "<table border=\"1\" class=\"dataframe\">\n",
       "  <thead>\n",
       "    <tr style=\"text-align: right;\">\n",
       "      <th></th>\n",
       "      <th>created_at</th>\n",
       "      <th>PM1.0 (CF=1) ug/m3</th>\n",
       "      <th>PM2.5 (CF=1) ug/m3</th>\n",
       "      <th>PM10.0 (CF=1) ug/m3</th>\n",
       "      <th>UptimeMinutes</th>\n",
       "      <th>ADC</th>\n",
       "      <th>Temperature_F</th>\n",
       "      <th>Humidity_%</th>\n",
       "      <th>PM2.5 (CF=ATM) ug/m3</th>\n",
       "      <th>ID</th>\n",
       "    </tr>\n",
       "  </thead>\n",
       "  <tbody>\n",
       "    <tr>\n",
       "      <th>326760</th>\n",
       "      <td>2019-12-26 23:50:42</td>\n",
       "      <td>0.0</td>\n",
       "      <td>0.0</td>\n",
       "      <td>0.00</td>\n",
       "      <td>33517.0</td>\n",
       "      <td>-73.0</td>\n",
       "      <td>63.0</td>\n",
       "      <td>41.0</td>\n",
       "      <td>0.0</td>\n",
       "      <td>9594.0</td>\n",
       "    </tr>\n",
       "    <tr>\n",
       "      <th>326761</th>\n",
       "      <td>2019-12-26 23:52:42</td>\n",
       "      <td>0.0</td>\n",
       "      <td>0.0</td>\n",
       "      <td>0.00</td>\n",
       "      <td>33519.0</td>\n",
       "      <td>-73.0</td>\n",
       "      <td>64.0</td>\n",
       "      <td>41.0</td>\n",
       "      <td>0.0</td>\n",
       "      <td>9594.0</td>\n",
       "    </tr>\n",
       "    <tr>\n",
       "      <th>326762</th>\n",
       "      <td>2019-12-26 23:54:42</td>\n",
       "      <td>0.0</td>\n",
       "      <td>0.0</td>\n",
       "      <td>0.00</td>\n",
       "      <td>33521.0</td>\n",
       "      <td>-73.0</td>\n",
       "      <td>63.0</td>\n",
       "      <td>41.0</td>\n",
       "      <td>0.0</td>\n",
       "      <td>9594.0</td>\n",
       "    </tr>\n",
       "    <tr>\n",
       "      <th>326763</th>\n",
       "      <td>2019-12-26 23:56:42</td>\n",
       "      <td>0.0</td>\n",
       "      <td>0.0</td>\n",
       "      <td>0.00</td>\n",
       "      <td>33523.0</td>\n",
       "      <td>-73.0</td>\n",
       "      <td>64.0</td>\n",
       "      <td>41.0</td>\n",
       "      <td>0.0</td>\n",
       "      <td>9594.0</td>\n",
       "    </tr>\n",
       "    <tr>\n",
       "      <th>326764</th>\n",
       "      <td>2019-12-26 23:58:42</td>\n",
       "      <td>0.0</td>\n",
       "      <td>0.0</td>\n",
       "      <td>0.04</td>\n",
       "      <td>33525.0</td>\n",
       "      <td>-74.0</td>\n",
       "      <td>64.0</td>\n",
       "      <td>41.0</td>\n",
       "      <td>0.0</td>\n",
       "      <td>9594.0</td>\n",
       "    </tr>\n",
       "  </tbody>\n",
       "</table>\n",
       "</div>"
      ],
      "text/plain": [
       "                created_at  PM1.0 (CF=1) ug/m3  PM2.5 (CF=1) ug/m3  \\\n",
       "326760 2019-12-26 23:50:42                 0.0                 0.0   \n",
       "326761 2019-12-26 23:52:42                 0.0                 0.0   \n",
       "326762 2019-12-26 23:54:42                 0.0                 0.0   \n",
       "326763 2019-12-26 23:56:42                 0.0                 0.0   \n",
       "326764 2019-12-26 23:58:42                 0.0                 0.0   \n",
       "\n",
       "        PM10.0 (CF=1) ug/m3  UptimeMinutes   ADC  Temperature_F  Humidity_%  \\\n",
       "326760                 0.00        33517.0 -73.0           63.0        41.0   \n",
       "326761                 0.00        33519.0 -73.0           64.0        41.0   \n",
       "326762                 0.00        33521.0 -73.0           63.0        41.0   \n",
       "326763                 0.00        33523.0 -73.0           64.0        41.0   \n",
       "326764                 0.04        33525.0 -74.0           64.0        41.0   \n",
       "\n",
       "        PM2.5 (CF=ATM) ug/m3      ID  \n",
       "326760                   0.0  9594.0  \n",
       "326761                   0.0  9594.0  \n",
       "326762                   0.0  9594.0  \n",
       "326763                   0.0  9594.0  \n",
       "326764                   0.0  9594.0  "
      ]
     },
     "execution_count": 42,
     "metadata": {},
     "output_type": "execute_result"
    }
   ],
   "source": [
    "data.head()\n",
    "data.tail()"
   ]
  }
 ],
 "metadata": {
  "kernelspec": {
   "display_name": "Python 3",
   "language": "python",
   "name": "python3"
  },
  "language_info": {
   "codemirror_mode": {
    "name": "ipython",
    "version": 3
   },
   "file_extension": ".py",
   "mimetype": "text/x-python",
   "name": "python",
   "nbconvert_exporter": "python",
   "pygments_lexer": "ipython3",
   "version": "3.6.5"
  }
 },
 "nbformat": 4,
 "nbformat_minor": 2
}
