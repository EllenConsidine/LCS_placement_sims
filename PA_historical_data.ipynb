{
 "cells": [
  {
   "cell_type": "code",
   "execution_count": 1,
   "metadata": {},
   "outputs": [],
   "source": [
    "## This repo: https://github.com/ReagentX/purple_air_api/\n",
    "\n",
    "import pandas as pd\n",
    "import purpleair as pa\n",
    "import datetime as dt"
   ]
  },
  {
   "cell_type": "code",
   "execution_count": 2,
   "metadata": {},
   "outputs": [
    {
     "name": "stdout",
     "output_type": "stream",
     "text": [
      "Initialized 16,991 sensors!\n"
     ]
    }
   ],
   "source": [
    "from purpleair.network import SensorList\n",
    "p = SensorList()"
   ]
  },
  {
   "cell_type": "code",
   "execution_count": 4,
   "metadata": {},
   "outputs": [
    {
     "data": {
      "text/plain": [
       "(12851, 43)"
      ]
     },
     "execution_count": 4,
     "metadata": {},
     "output_type": "execute_result"
    }
   ],
   "source": [
    "df = p.to_dataframe(sensor_filter='outside', # or 'all'\n",
    "                    channel='parent')\n",
    "\n",
    "df.head()\n",
    "df.shape"
   ]
  },
  {
   "cell_type": "code",
   "execution_count": 5,
   "metadata": {},
   "outputs": [],
   "source": [
    "df.to_csv(\"C:\\\\Users\\\\ellen\\\\OneDrive\\\\MyDocs\\\\Graduate Research\\\\Low-cost AQ sensor epi\\\\Getting data\\\\PA_outside.csv\")"
   ]
  },
  {
   "cell_type": "code",
   "execution_count": 5,
   "metadata": {},
   "outputs": [
    {
     "data": {
      "text/plain": [
       "Index(['10min_avg', '1day_avg', '1hour_avg', '1week_avg', '30min_avg',\n",
       "       '6hour_avg', 'adc', 'age', 'brightness', 'created', 'downgraded',\n",
       "       'flagged', 'hardware', 'hidden', 'humidity', 'is_owner', 'last_seen',\n",
       "       'last_update_check', 'lat', 'location_type', 'lon', 'model', 'name',\n",
       "       'p_0_3_um', 'p_0_5_um', 'p_10_0_um', 'p_1_0_um', 'p_2_5_um', 'p_5_0_um',\n",
       "       'parent', 'pm10_0_atm', 'pm10_0_cf_1', 'pm1_0_atm', 'pm1_0_cf_1',\n",
       "       'pm2_5_atm', 'pm2_5_cf_1', 'pm_2.5', 'pressure', 'rssi', 'temp_c',\n",
       "       'temp_f', 'uptime', 'version'],\n",
       "      dtype='object')"
      ]
     },
     "execution_count": 5,
     "metadata": {},
     "output_type": "execute_result"
    }
   ],
   "source": [
    "df.columns"
   ]
  },
  {
   "cell_type": "code",
   "execution_count": 59,
   "metadata": {},
   "outputs": [
    {
     "data": {
      "text/html": [
       "<div>\n",
       "<style scoped>\n",
       "    .dataframe tbody tr th:only-of-type {\n",
       "        vertical-align: middle;\n",
       "    }\n",
       "\n",
       "    .dataframe tbody tr th {\n",
       "        vertical-align: top;\n",
       "    }\n",
       "\n",
       "    .dataframe thead th {\n",
       "        text-align: right;\n",
       "    }\n",
       "</style>\n",
       "<table border=\"1\" class=\"dataframe\">\n",
       "  <thead>\n",
       "    <tr style=\"text-align: right;\">\n",
       "      <th></th>\n",
       "      <th>Lon</th>\n",
       "      <th>Lat</th>\n",
       "      <th>Site.ID</th>\n",
       "      <th>Parameter</th>\n",
       "      <th>PA.ID</th>\n",
       "      <th>Dist</th>\n",
       "    </tr>\n",
       "  </thead>\n",
       "  <tbody>\n",
       "    <tr>\n",
       "      <th>0</th>\n",
       "      <td>-122.169935</td>\n",
       "      <td>37.743065</td>\n",
       "      <td>9</td>\n",
       "      <td>88101</td>\n",
       "      <td>41399</td>\n",
       "      <td>0.337386</td>\n",
       "    </tr>\n",
       "    <tr>\n",
       "      <th>1</th>\n",
       "      <td>-122.282347</td>\n",
       "      <td>37.814781</td>\n",
       "      <td>11</td>\n",
       "      <td>88101</td>\n",
       "      <td>26977</td>\n",
       "      <td>0.151227</td>\n",
       "    </tr>\n",
       "    <tr>\n",
       "      <th>2</th>\n",
       "      <td>-122.302741</td>\n",
       "      <td>37.864767</td>\n",
       "      <td>13</td>\n",
       "      <td>88101</td>\n",
       "      <td>63161</td>\n",
       "      <td>0.200170</td>\n",
       "    </tr>\n",
       "    <tr>\n",
       "      <th>3</th>\n",
       "      <td>-119.773210</td>\n",
       "      <td>36.785380</td>\n",
       "      <td>11</td>\n",
       "      <td>88101</td>\n",
       "      <td>6568</td>\n",
       "      <td>0.021083</td>\n",
       "    </tr>\n",
       "    <tr>\n",
       "      <th>4</th>\n",
       "      <td>-119.716433</td>\n",
       "      <td>36.819449</td>\n",
       "      <td>5001</td>\n",
       "      <td>88101</td>\n",
       "      <td>18647</td>\n",
       "      <td>0.054847</td>\n",
       "    </tr>\n",
       "  </tbody>\n",
       "</table>\n",
       "</div>"
      ],
      "text/plain": [
       "          Lon        Lat  Site.ID  Parameter  PA.ID      Dist\n",
       "0 -122.169935  37.743065        9      88101  41399  0.337386\n",
       "1 -122.282347  37.814781       11      88101  26977  0.151227\n",
       "2 -122.302741  37.864767       13      88101  63161  0.200170\n",
       "3 -119.773210  36.785380       11      88101   6568  0.021083\n",
       "4 -119.716433  36.819449     5001      88101  18647  0.054847"
      ]
     },
     "execution_count": 59,
     "metadata": {},
     "output_type": "execute_result"
    }
   ],
   "source": [
    "## Getting all sensors in CA:\n",
    "\n",
    "# CA_locs = pd.read_csv(\"C:\\\\Users\\\\ellen\\\\OneDrive\\\\MyDocs\\\\Graduate Research\\\\Low-cost AQ sensor epi\\\\Intermediate data\\\\PA_CA_locations_with_IDs.csv\")\n",
    "# CA_locs.shape # 9,155 rows\n",
    "\n",
    "CA_locs = pd.read_csv(\"C:\\\\Users\\\\ellen\\\\OneDrive\\\\MyDocs\\\\Graduate Research\\\\Low-cost AQ sensor epi\\\\Getting data\\\\NN_PA_AQS.csv\")\n",
    "CA_locs.head()"
   ]
  },
  {
   "cell_type": "code",
   "execution_count": 99,
   "metadata": {},
   "outputs": [
    {
     "data": {
      "text/plain": [
       "[12288,\n",
       " 2305,\n",
       " 73219,\n",
       " 1928,\n",
       " 48393,\n",
       " 9354,\n",
       " 65421,\n",
       " 15633,\n",
       " 93329,\n",
       " 8338,\n",
       " 8082,\n",
       " 73109,\n",
       " 5016,\n",
       " 8858,\n",
       " 55707,\n",
       " 13469,\n",
       " 85917,\n",
       " 16541,\n",
       " 2717,\n",
       " 11424,\n",
       " 7966,\n",
       " 44707,\n",
       " 16673,\n",
       " 6568,\n",
       " 50601,\n",
       " 2350,\n",
       " 8246,\n",
       " 41399,\n",
       " 63161,\n",
       " 1854,\n",
       " 16703,\n",
       " 6848,\n",
       " 53825,\n",
       " 16705,\n",
       " 2368,\n",
       " 40001,\n",
       " 12741,\n",
       " 70727,\n",
       " 12743,\n",
       " 14283,\n",
       " 9296,\n",
       " 14545,\n",
       " 69201,\n",
       " 17107,\n",
       " 48339,\n",
       " 77269,\n",
       " 18647,\n",
       " 31323,\n",
       " 26977,\n",
       " 17121,\n",
       " 16741,\n",
       " 6886,\n",
       " 52071,\n",
       " 84601,\n",
       " 9594,\n",
       " 18683]"
      ]
     },
     "execution_count": 99,
     "metadata": {},
     "output_type": "execute_result"
    }
   ],
   "source": [
    "ids = list(set(CA_locs[\"PA.ID\"]))\n",
    "# len(ids)\n",
    "ids"
   ]
  },
  {
   "cell_type": "code",
   "execution_count": 102,
   "metadata": {},
   "outputs": [
    {
     "data": {
      "text/plain": [
       "54"
      ]
     },
     "execution_count": 102,
     "metadata": {},
     "output_type": "execute_result"
    }
   ],
   "source": [
    "ids.index(9594)"
   ]
  },
  {
   "cell_type": "code",
   "execution_count": 65,
   "metadata": {},
   "outputs": [
    {
     "name": "stdout",
     "output_type": "stream",
     "text": [
      "Child sensor requested, acquiring parent instead.\n"
     ]
    },
    {
     "data": {
      "text/plain": [
       "datetime.timedelta(0, 2, 254608)"
      ]
     },
     "execution_count": 65,
     "metadata": {},
     "output_type": "execute_result"
    }
   ],
   "source": [
    "## Testing from one sensor:\n",
    "\n",
    "start = dt.datetime.now()\n",
    "\n",
    "se = pa.sensor.Sensor(61200)\n",
    "\n",
    "h = se.parent.get_historical(weeks_to_get=1,\n",
    "                            start_date = dt.datetime.strptime(\"2021-01-01\", \"%Y-%m-%d\"),\n",
    "                             thingspeak_field='primary')\n",
    "end = dt.datetime.now()\n",
    "\n",
    "end-start"
   ]
  },
  {
   "cell_type": "code",
   "execution_count": 37,
   "metadata": {},
   "outputs": [],
   "source": [
    "# sensors_16 = []\n",
    "\n",
    "# for s in CA_locs[\"ID\"][1:100]:\n",
    "#     se = pa.sensor.Sensor(s)\n",
    "#     h = se.parent.get_historical(weeks_to_get=1,\n",
    "#                             start_date = dt.datetime.strptime(\"2016-07-22\", \"%Y-%m-%d\"),\n",
    "#                              thingspeak_field='primary')\n",
    "#     if not h.empty:\n",
    "#         sensors_16.append(s)"
   ]
  },
  {
   "cell_type": "code",
   "execution_count": 111,
   "metadata": {},
   "outputs": [
    {
     "name": "stdout",
     "output_type": "stream",
     "text": [
      "0\n",
      "1\n",
      "2\n",
      "3\n",
      "4\n",
      "5\n",
      "6\n",
      "7\n",
      "8\n",
      "9\n",
      "10\n",
      "11\n",
      "12\n",
      "13\n",
      "14\n",
      "15\n",
      "16\n",
      "17\n",
      "18\n",
      "19\n",
      "20\n",
      "21\n",
      "22\n",
      "23\n",
      "24\n",
      "25\n",
      "26\n",
      "27\n",
      "28\n",
      "29\n",
      "30\n",
      "31\n",
      "32\n",
      "33\n",
      "34\n",
      "35\n",
      "36\n",
      "37\n",
      "38\n",
      "39\n",
      "40\n",
      "41\n",
      "42\n",
      "43\n",
      "44\n",
      "45\n",
      "46\n",
      "47\n",
      "48\n",
      "49\n",
      "50\n",
      "51\n",
      "52\n",
      "53\n",
      "54\n",
      "55\n"
     ]
    }
   ],
   "source": [
    "## Get 2020 data instead: \n",
    "data = pd.DataFrame(columns = h.columns)\n",
    "data[\"ID\"] = []\n",
    "\n",
    "for s in ids:\n",
    "    se = pa.sensor.Sensor(s)\n",
    "    print(ids.index(s))\n",
    "    for i in range(1,13):\n",
    "        h = se.parent.get_historical(weeks_to_get=1,\n",
    "                                start_date = dt.datetime.strptime(\"2020-\" + str(i) + \"-19\", \"%Y-%m-%d\"), #straddles 15th of each month\n",
    "                                 thingspeak_field='primary')\n",
    "        h[\"ID\"] = s\n",
    "        data = data.append(h)\n",
    "\n",
    "data.to_csv(\"C:\\\\Users\\\\ellen\\\\OneDrive\\\\MyDocs\\\\Graduate Research\\\\Low-cost AQ sensor epi\\\\Getting data\\\\PA_2020_NNs.csv\")"
   ]
  },
  {
   "cell_type": "code",
   "execution_count": 112,
   "metadata": {},
   "outputs": [
    {
     "data": {
      "text/html": [
       "<div>\n",
       "<style scoped>\n",
       "    .dataframe tbody tr th:only-of-type {\n",
       "        vertical-align: middle;\n",
       "    }\n",
       "\n",
       "    .dataframe tbody tr th {\n",
       "        vertical-align: top;\n",
       "    }\n",
       "\n",
       "    .dataframe thead th {\n",
       "        text-align: right;\n",
       "    }\n",
       "</style>\n",
       "<table border=\"1\" class=\"dataframe\">\n",
       "  <thead>\n",
       "    <tr style=\"text-align: right;\">\n",
       "      <th></th>\n",
       "      <th>created_at</th>\n",
       "      <th>PM1.0 (CF=1) ug/m3</th>\n",
       "      <th>PM2.5 (CF=1) ug/m3</th>\n",
       "      <th>PM10.0 (CF=1) ug/m3</th>\n",
       "      <th>UptimeMinutes</th>\n",
       "      <th>ADC</th>\n",
       "      <th>Temperature_F</th>\n",
       "      <th>Humidity_%</th>\n",
       "      <th>PM2.5 (CF=ATM) ug/m3</th>\n",
       "      <th>ID</th>\n",
       "    </tr>\n",
       "  </thead>\n",
       "  <tbody>\n",
       "    <tr>\n",
       "      <th>90788</th>\n",
       "      <td>2020-12-18 23:51:31</td>\n",
       "      <td>2.47</td>\n",
       "      <td>4.16</td>\n",
       "      <td>5.00</td>\n",
       "      <td>60187.0</td>\n",
       "      <td>-66.0</td>\n",
       "      <td>46.0</td>\n",
       "      <td>48.0</td>\n",
       "      <td>4.16</td>\n",
       "      <td>18683.0</td>\n",
       "    </tr>\n",
       "    <tr>\n",
       "      <th>90789</th>\n",
       "      <td>2020-12-18 23:53:31</td>\n",
       "      <td>2.09</td>\n",
       "      <td>3.36</td>\n",
       "      <td>5.15</td>\n",
       "      <td>60189.0</td>\n",
       "      <td>-65.0</td>\n",
       "      <td>46.0</td>\n",
       "      <td>49.0</td>\n",
       "      <td>3.36</td>\n",
       "      <td>18683.0</td>\n",
       "    </tr>\n",
       "    <tr>\n",
       "      <th>90790</th>\n",
       "      <td>2020-12-18 23:55:31</td>\n",
       "      <td>3.38</td>\n",
       "      <td>5.73</td>\n",
       "      <td>6.09</td>\n",
       "      <td>60191.0</td>\n",
       "      <td>-62.0</td>\n",
       "      <td>45.0</td>\n",
       "      <td>49.0</td>\n",
       "      <td>5.73</td>\n",
       "      <td>18683.0</td>\n",
       "    </tr>\n",
       "    <tr>\n",
       "      <th>90791</th>\n",
       "      <td>2020-12-18 23:57:31</td>\n",
       "      <td>2.98</td>\n",
       "      <td>5.57</td>\n",
       "      <td>6.79</td>\n",
       "      <td>60193.0</td>\n",
       "      <td>-63.0</td>\n",
       "      <td>45.0</td>\n",
       "      <td>49.0</td>\n",
       "      <td>5.57</td>\n",
       "      <td>18683.0</td>\n",
       "    </tr>\n",
       "    <tr>\n",
       "      <th>90792</th>\n",
       "      <td>2020-12-18 23:59:31</td>\n",
       "      <td>5.05</td>\n",
       "      <td>7.36</td>\n",
       "      <td>8.46</td>\n",
       "      <td>60195.0</td>\n",
       "      <td>-65.0</td>\n",
       "      <td>46.0</td>\n",
       "      <td>49.0</td>\n",
       "      <td>7.36</td>\n",
       "      <td>18683.0</td>\n",
       "    </tr>\n",
       "  </tbody>\n",
       "</table>\n",
       "</div>"
      ],
      "text/plain": [
       "               created_at  PM1.0 (CF=1) ug/m3  PM2.5 (CF=1) ug/m3  \\\n",
       "90788 2020-12-18 23:51:31                2.47                4.16   \n",
       "90789 2020-12-18 23:53:31                2.09                3.36   \n",
       "90790 2020-12-18 23:55:31                3.38                5.73   \n",
       "90791 2020-12-18 23:57:31                2.98                5.57   \n",
       "90792 2020-12-18 23:59:31                5.05                7.36   \n",
       "\n",
       "       PM10.0 (CF=1) ug/m3  UptimeMinutes   ADC  Temperature_F  Humidity_%  \\\n",
       "90788                 5.00        60187.0 -66.0           46.0        48.0   \n",
       "90789                 5.15        60189.0 -65.0           46.0        49.0   \n",
       "90790                 6.09        60191.0 -62.0           45.0        49.0   \n",
       "90791                 6.79        60193.0 -63.0           45.0        49.0   \n",
       "90792                 8.46        60195.0 -65.0           46.0        49.0   \n",
       "\n",
       "       PM2.5 (CF=ATM) ug/m3       ID  \n",
       "90788                  4.16  18683.0  \n",
       "90789                  3.36  18683.0  \n",
       "90790                  5.73  18683.0  \n",
       "90791                  5.57  18683.0  \n",
       "90792                  7.36  18683.0  "
      ]
     },
     "execution_count": 112,
     "metadata": {},
     "output_type": "execute_result"
    }
   ],
   "source": [
    "data.head()\n",
    "data.tail()"
   ]
  }
 ],
 "metadata": {
  "kernelspec": {
   "display_name": "Python 3",
   "language": "python",
   "name": "python3"
  },
  "language_info": {
   "codemirror_mode": {
    "name": "ipython",
    "version": 3
   },
   "file_extension": ".py",
   "mimetype": "text/x-python",
   "name": "python",
   "nbconvert_exporter": "python",
   "pygments_lexer": "ipython3",
   "version": "3.6.5"
  }
 },
 "nbformat": 4,
 "nbformat_minor": 2
}
